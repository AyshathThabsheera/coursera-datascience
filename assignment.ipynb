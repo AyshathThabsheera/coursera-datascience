{
  "metadata": {
    "language_info": {
      "codemirror_mode": {
        "name": "python",
        "version": 3
      },
      "file_extension": ".py",
      "mimetype": "text/x-python",
      "name": "python",
      "nbconvert_exporter": "python",
      "pygments_lexer": "ipython3",
      "version": "3.8"
    },
    "kernelspec": {
      "name": "python",
      "display_name": "Pyolite",
      "language": "python"
    }
  },
  "nbformat_minor": 4,
  "nbformat": 4,
  "cells": [
    {
      "cell_type": "markdown",
      "source": "# My Jupyter Notebook on IBM Watson Studio",
      "metadata": {}
    },
    {
      "cell_type": "markdown",
      "source": "**AYSHATH THABSHEERA AP**\nCurrent Occupation : Lecturer",
      "metadata": {}
    },
    {
      "cell_type": "markdown",
      "source": "*As I am interested in data mining and artificial intelligence and the process of knowledge discovery from the huge amount of data, I would like to work in the field of data science*",
      "metadata": {}
    },
    {
      "cell_type": "markdown",
      "source": "I am writing the code for simple addition operation ",
      "metadata": {}
    },
    {
      "cell_type": "code",
      "source": "2+3",
      "metadata": {
        "trusted": true
      },
      "execution_count": 1,
      "outputs": [
        {
          "execution_count": 1,
          "output_type": "execute_result",
          "data": {
            "text/plain": "5"
          },
          "metadata": {}
        }
      ]
    },
    {
      "cell_type": "markdown",
      "source": "***\nhorizontal rule\n***",
      "metadata": {}
    },
    {
      "cell_type": "markdown",
      "source": "* bulleted list",
      "metadata": {}
    },
    {
      "cell_type": "markdown",
      "source": "1. numbered list",
      "metadata": {}
    },
    {
      "cell_type": "code",
      "source": "",
      "metadata": {},
      "execution_count": null,
      "outputs": []
    }
  ]
}